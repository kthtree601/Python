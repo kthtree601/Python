{
 "metadata": {
  "language_info": {
   "codemirror_mode": {
    "name": "ipython",
    "version": 3
   },
   "file_extension": ".py",
   "mimetype": "text/x-python",
   "name": "python",
   "nbconvert_exporter": "python",
   "pygments_lexer": "ipython3",
   "version": "3.8.5"
  },
  "orig_nbformat": 2,
  "kernelspec": {
   "name": "python385jvsc74a57bd022bb53b43b3afb0848b0afa27adb8f2415fb61399be88b9ea69bd0b84fe58c05",
   "display_name": "Python 3.8.5 64-bit ('base': conda)"
  }
 },
 "nbformat": 4,
 "nbformat_minor": 2,
 "cells": [
  {
   "cell_type": "code",
   "execution_count": 1,
   "metadata": {},
   "outputs": [],
   "source": [
    "# 씨저 암호 클래스로 작성하기"
   ]
  },
  {
   "cell_type": "code",
   "execution_count": 3,
   "metadata": {},
   "outputs": [],
   "source": [
    "class Caesar:\n",
    "    def encode(self, plain, n):\n",
    "        cipher = ''\n",
    "        for c in plain:\n",
    "            diff = ord(c) - ord('A') + n\n",
    "            if diff >= 26:\n",
    "                cipher += chr(ord('A') + diff % 26)\n",
    "            else:\n",
    "                cipher += chr(ord(c) + n)\n",
    "        return cipher\n",
    "\n",
    "    def decode(self, cipher, n):\n",
    "        plain = ''\n",
    "        for c in cipher:\n",
    "            diff = ord(c) - ord('A') - n\n",
    "            if diff < 0:\n",
    "                plain += chr(ord('Z') + diff + 1)\n",
    "            else:\n",
    "                plain += chr(ord(c) - n)\n",
    "        return plain"
   ]
  },
  {
   "cell_type": "code",
   "execution_count": 4,
   "metadata": {},
   "outputs": [
    {
     "output_type": "execute_result",
     "data": {
      "text/plain": [
       "'DEFABC'"
      ]
     },
     "metadata": {},
     "execution_count": 4
    }
   ],
   "source": [
    "caesar = Caesar()\n",
    "caesar.encode('ABCXYZ', 3)\n"
   ]
  },
  {
   "cell_type": "code",
   "execution_count": 5,
   "metadata": {},
   "outputs": [
    {
     "output_type": "execute_result",
     "data": {
      "text/plain": [
       "'ABCXYZ'"
      ]
     },
     "metadata": {},
     "execution_count": 5
    }
   ],
   "source": [
    "caesar.decode('DEFABC', 3)"
   ]
  },
  {
   "cell_type": "code",
   "execution_count": null,
   "metadata": {},
   "outputs": [],
   "source": []
  }
 ]
}