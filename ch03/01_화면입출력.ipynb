{
 "metadata": {
  "language_info": {
   "codemirror_mode": {
    "name": "ipython",
    "version": 3
   },
   "file_extension": ".py",
   "mimetype": "text/x-python",
   "name": "python",
   "nbconvert_exporter": "python",
   "pygments_lexer": "ipython3",
   "version": "3.8.5"
  },
  "orig_nbformat": 2,
  "kernelspec": {
   "name": "python385jvsc74a57bd022bb53b43b3afb0848b0afa27adb8f2415fb61399be88b9ea69bd0b84fe58c05",
   "display_name": "Python 3.8.5 64-bit ('User': virtualenv)"
  }
 },
 "nbformat": 4,
 "nbformat_minor": 2,
 "cells": [
  {
   "source": [
    "# 3장 화면 입출력과 리스트"
   ],
   "cell_type": "markdown",
   "metadata": {}
  },
  {
   "source": [
    "### 1. 파이썬 프로그래밍 환경\n",
    "\n",
    "### 2. 화면 입출력"
   ],
   "cell_type": "markdown",
   "metadata": {}
  },
  {
   "cell_type": "code",
   "execution_count": 6,
   "metadata": {},
   "outputs": [
    {
     "output_type": "stream",
     "name": "stdout",
     "text": [
      "enter your name:\n",
      "hi\n"
     ]
    }
   ],
   "source": [
    "print('enter your name:')\n",
    "somebody = input()\n",
    "print('hi')"
   ]
  },
  {
   "cell_type": "code",
   "execution_count": 7,
   "metadata": {},
   "outputs": [
    {
     "output_type": "stream",
     "name": "stdout",
     "text": [
      "holy, kim how are you\n"
     ]
    }
   ],
   "source": [
    "somebody = input('enter your name> ')\n",
    "print(f'holy, {somebody} how are you')"
   ]
  },
  {
   "cell_type": "code",
   "execution_count": 9,
   "metadata": {},
   "outputs": [
    {
     "output_type": "stream",
     "name": "stdout",
     "text": [
      "섭씨 온도 : 14==> 화씨온도: 57.2\n"
     ]
    }
   ],
   "source": [
    "#celsius 타입은 문자열\n",
    "celsius = input('섭씨 온도를 입력하세요.')\n",
    "fahrenheit = float(celsius) * 1.8 + 32\n",
    "print(f'섭씨 온도 : {celsius}==> 화씨온도: {fahrenheit}')"
   ]
  },
  {
   "cell_type": "code",
   "execution_count": 11,
   "metadata": {},
   "outputs": [
    {
     "output_type": "stream",
     "name": "stdout",
     "text": [
      "섭씨 온도 : 177.0==> 화씨온도: 350.60\n"
     ]
    }
   ],
   "source": [
    "#celsius 타입은 실수형\n",
    "celsius = float(input('섭씨 온도를 입력하세요.'))\n",
    "fahrenheit = float(celsius) * 1.8 + 32\n",
    "print(f'섭씨 온도 : {celsius}==> 화씨온도: {fahrenheit:.2f}')  #소수점 둘쨰자리 까지"
   ]
  }
 ]
}