{
 "metadata": {
  "language_info": {
   "codemirror_mode": {
    "name": "ipython",
    "version": 3
   },
   "file_extension": ".py",
   "mimetype": "text/x-python",
   "name": "python",
   "nbconvert_exporter": "python",
   "pygments_lexer": "ipython3",
   "version": "3.8.5"
  },
  "orig_nbformat": 2,
  "kernelspec": {
   "name": "python385jvsc74a57bd022bb53b43b3afb0848b0afa27adb8f2415fb61399be88b9ea69bd0b84fe58c05",
   "display_name": "Python 3.8.5 64-bit ('User': virtualenv)"
  }
 },
 "nbformat": 4,
 "nbformat_minor": 2,
 "cells": [
  {
   "cell_type": "code",
   "execution_count": 1,
   "metadata": {},
   "outputs": [],
   "source": [
    "colors = ['red', 'green','blue',0xffff      ]"
   ]
  },
  {
   "source": [
    "- 인덱싱"
   ],
   "cell_type": "markdown",
   "metadata": {}
  },
  {
   "cell_type": "code",
   "execution_count": 4,
   "metadata": {},
   "outputs": [
    {
     "output_type": "execute_result",
     "data": {
      "text/plain": [
       "('red', 'red')"
      ]
     },
     "metadata": {},
     "execution_count": 4
    }
   ],
   "source": [
    "colors[0], colors[-4]"
   ]
  },
  {
   "cell_type": "code",
   "execution_count": 6,
   "metadata": {},
   "outputs": [
    {
     "output_type": "execute_result",
     "data": {
      "text/plain": [
       "('blue', 'blue')"
      ]
     },
     "metadata": {},
     "execution_count": 6
    }
   ],
   "source": [
    "colors[2], colors[-2]"
   ]
  },
  {
   "source": [
    "#### - 슬라이싱"
   ],
   "cell_type": "markdown",
   "metadata": {}
  },
  {
   "cell_type": "code",
   "execution_count": null,
   "metadata": {},
   "outputs": [],
   "source": []
  },
  {
   "cell_type": "code",
   "execution_count": 8,
   "metadata": {},
   "outputs": [
    {
     "output_type": "execute_result",
     "data": {
      "text/plain": [
       "['서울', '부산', '인천']"
      ]
     },
     "metadata": {},
     "execution_count": 8
    }
   ],
   "source": [
    "cities = ['서울','부산','인천','대구','대전','광주','울산','세종']\n",
    "cities[0:3]  #0으로부터 시작한다면 0은 생략을 해도 된다  ,혹은 끝의 -1은 생략 가능 "
   ]
  },
  {
   "cell_type": "code",
   "execution_count": null,
   "metadata": {},
   "outputs": [],
   "source": []
  },
  {
   "cell_type": "code",
   "execution_count": 10,
   "metadata": {},
   "outputs": [
    {
     "output_type": "execute_result",
     "data": {
      "text/plain": [
       "['서울', '부산', '인천']"
      ]
     },
     "metadata": {},
     "execution_count": 10
    }
   ],
   "source": [
    "cities[:3]"
   ]
  },
  {
   "cell_type": "code",
   "execution_count": 13,
   "metadata": {},
   "outputs": [
    {
     "output_type": "execute_result",
     "data": {
      "text/plain": [
       "(['광주', '울산', '세종'], ['광주', '울산'])"
      ]
     },
     "metadata": {},
     "execution_count": 13
    }
   ],
   "source": [
    "cities[5:] , cities[5:-1]  "
   ]
  },
  {
   "cell_type": "code",
   "execution_count": 15,
   "metadata": {},
   "outputs": [
    {
     "output_type": "execute_result",
     "data": {
      "text/plain": [
       "['서울', '인천', '대전', '울산']"
      ]
     },
     "metadata": {},
     "execution_count": 15
    }
   ],
   "source": [
    "cities[::2] # 시작값: 끝값: 증분"
   ]
  },
  {
   "cell_type": "code",
   "execution_count": 16,
   "metadata": {},
   "outputs": [
    {
     "output_type": "error",
     "ename": "NameError",
     "evalue": "name '분' is not defined",
     "traceback": [
      "\u001b[1;31m---------------------------------------------------------------------------\u001b[0m",
      "\u001b[1;31mNameError\u001b[0m                                 Traceback (most recent call last)",
      "\u001b[1;32m<ipython-input-16-17dcad8de42e>\u001b[0m in \u001b[0;36m<module>\u001b[1;34m\u001b[0m\n\u001b[1;32m----> 1\u001b[1;33m \u001b[0m분\u001b[0m\u001b[1;33m\u001b[0m\u001b[1;33m\u001b[0m\u001b[0m\n\u001b[0m",
      "\u001b[1;31mNameError\u001b[0m: name '분' is not defined"
     ]
    }
   ],
   "source": [
    "분"
   ]
  },
  {
   "cell_type": "code",
   "execution_count": 18,
   "metadata": {},
   "outputs": [
    {
     "output_type": "execute_result",
     "data": {
      "text/plain": [
       "['세종', '울산']"
      ]
     },
     "metadata": {},
     "execution_count": 18
    }
   ],
   "source": [
    "cities[7:5:-1]"
   ]
  },
  {
   "cell_type": "code",
   "execution_count": 19,
   "metadata": {},
   "outputs": [
    {
     "output_type": "execute_result",
     "data": {
      "text/plain": [
       "['서울', '부산', '인천', '대구', '대전', '광주', '울산', '세종']"
      ]
     },
     "metadata": {},
     "execution_count": 19
    }
   ],
   "source": [
    "# 인덱스 범위를 넘어가는 슬라이싱\n",
    "cities[-10:10]\n"
   ]
  },
  {
   "cell_type": "code",
   "execution_count": 21,
   "metadata": {},
   "outputs": [
    {
     "output_type": "execute_result",
     "data": {
      "text/plain": [
       "['세종', '울산', '광주', '대전', '대구', '인천', '부산', '서울']"
      ]
     },
     "metadata": {},
     "execution_count": 21
    }
   ],
   "source": [
    "cities[::-1]"
   ]
  },
  {
   "source": [
    "- 연산"
   ],
   "cell_type": "markdown",
   "metadata": {}
  },
  {
   "cell_type": "code",
   "execution_count": 22,
   "metadata": {},
   "outputs": [],
   "source": [
    "color1 = ['red','green','blue']\n",
    "color2 = ['orange','black','white']"
   ]
  },
  {
   "cell_type": "code",
   "execution_count": 24,
   "metadata": {},
   "outputs": [
    {
     "output_type": "execute_result",
     "data": {
      "text/plain": [
       "3"
      ]
     },
     "metadata": {},
     "execution_count": 24
    }
   ],
   "source": [
    "len(color1)"
   ]
  },
  {
   "cell_type": "code",
   "execution_count": 26,
   "metadata": {},
   "outputs": [
    {
     "output_type": "execute_result",
     "data": {
      "text/plain": [
       "['red', 'green', 'blue', 'orange', 'black', 'white']"
      ]
     },
     "metadata": {},
     "execution_count": 26
    }
   ],
   "source": [
    "color1 + color2"
   ]
  },
  {
   "cell_type": "code",
   "execution_count": 28,
   "metadata": {},
   "outputs": [
    {
     "output_type": "execute_result",
     "data": {
      "text/plain": [
       "['red', 'green', 'blue', 'orange', 'black', 'white']"
      ]
     },
     "metadata": {},
     "execution_count": 28
    }
   ],
   "source": [
    "total_color = color1 + color2\n",
    "total_color"
   ]
  },
  {
   "cell_type": "code",
   "execution_count": 30,
   "metadata": {},
   "outputs": [
    {
     "output_type": "execute_result",
     "data": {
      "text/plain": [
       "['red', 'green', 'blue', 'red', 'green', 'blue']"
      ]
     },
     "metadata": {},
     "execution_count": 30
    }
   ],
   "source": [
    "color1 * 2   #반복횟수"
   ]
  },
  {
   "cell_type": "code",
   "execution_count": 35,
   "metadata": {},
   "outputs": [
    {
     "output_type": "execute_result",
     "data": {
      "text/plain": [
       "(True, False)"
      ]
     },
     "metadata": {},
     "execution_count": 35
    }
   ],
   "source": [
    "'red' in color1,'red' in color2"
   ]
  },
  {
   "cell_type": "code",
   "execution_count": 37,
   "metadata": {},
   "outputs": [
    {
     "output_type": "execute_result",
     "data": {
      "text/plain": [
       "False"
      ]
     },
     "metadata": {},
     "execution_count": 37
    }
   ],
   "source": [
    "'red' not in color1"
   ]
  },
  {
   "source": [
    "#### 리스트의 추가 및 삭제(다양한 메소드)"
   ],
   "cell_type": "markdown",
   "metadata": {}
  },
  {
   "cell_type": "code",
   "execution_count": 39,
   "metadata": {},
   "outputs": [
    {
     "output_type": "execute_result",
     "data": {
      "text/plain": [
       "['red', 'green', 'blue']"
      ]
     },
     "metadata": {},
     "execution_count": 39
    }
   ],
   "source": [
    "color = ['red','green','blue']\n",
    "color"
   ]
  },
  {
   "cell_type": "code",
   "execution_count": 41,
   "metadata": {},
   "outputs": [
    {
     "output_type": "execute_result",
     "data": {
      "text/plain": [
       "['red', 'green', 'blue', 'white', 'white']"
      ]
     },
     "metadata": {},
     "execution_count": 41
    }
   ],
   "source": [
    "color.append('white')\n",
    "color"
   ]
  },
  {
   "cell_type": "code",
   "execution_count": 46,
   "metadata": {},
   "outputs": [
    {
     "output_type": "error",
     "ename": "IndentationError",
     "evalue": "expected an indented block (<ipython-input-46-8871db93b9d4>, line 3)",
     "traceback": [
      "\u001b[1;36m  File \u001b[1;32m\"<ipython-input-46-8871db93b9d4>\"\u001b[1;36m, line \u001b[1;32m3\u001b[0m\n\u001b[1;33m    results.append(s)\u001b[0m\n\u001b[1;37m    ^\u001b[0m\n\u001b[1;31mIndentationError\u001b[0m\u001b[1;31m:\u001b[0m expected an indented block\n"
     ]
    }
   ],
   "source": [
    "results = list()  # empty list 생성\n",
    "for s in 'holy':\n",
    "results.append(s)\n",
    "results"
   ]
  },
  {
   "cell_type": "code",
   "execution_count": 52,
   "metadata": {},
   "outputs": [],
   "source": [
    "sum = 0\n",
    "for i in range(101):\n",
    "    sum +=i \n",
    "    sum"
   ]
  },
  {
   "cell_type": "code",
   "execution_count": 54,
   "metadata": {},
   "outputs": [
    {
     "output_type": "execute_result",
     "data": {
      "text/plain": [
       "['h', 'o', 'l', 'y']"
      ]
     },
     "metadata": {},
     "execution_count": 54
    }
   ],
   "source": [
    "x = [s for s in 'holy']\n",
    "x"
   ]
  },
  {
   "source": [
    "#### b.extend"
   ],
   "cell_type": "markdown",
   "metadata": {}
  },
  {
   "cell_type": "code",
   "execution_count": 56,
   "metadata": {},
   "outputs": [
    {
     "output_type": "execute_result",
     "data": {
      "text/plain": [
       "['red',\n",
       " 'green',\n",
       " 'blue',\n",
       " 'white',\n",
       " 'white',\n",
       " ['black', 'white'],\n",
       " ['black', 'white']]"
      ]
     },
     "metadata": {},
     "execution_count": 56
    }
   ],
   "source": [
    "color.append(['black','white'])\n",
    "color"
   ]
  },
  {
   "cell_type": "code",
   "execution_count": 58,
   "metadata": {},
   "outputs": [
    {
     "output_type": "execute_result",
     "data": {
      "text/plain": [
       "['red', 'green', 'blue', 'black', 'white']"
      ]
     },
     "metadata": {},
     "execution_count": 58
    }
   ],
   "source": [
    "color = ['red','green','blue']\n",
    "color.extend(['black','white'])\n",
    "color"
   ]
  },
  {
   "source": [
    "#### c.insert()"
   ],
   "cell_type": "markdown",
   "metadata": {}
  },
  {
   "cell_type": "code",
   "execution_count": 61,
   "metadata": {},
   "outputs": [
    {
     "output_type": "execute_result",
     "data": {
      "text/plain": [
       "['orange', 'orange', 'red', 'green', 'blue', 'black', 'white']"
      ]
     },
     "metadata": {},
     "execution_count": 61
    }
   ],
   "source": [
    "color.insert(0, 'orange')\n",
    "color"
   ]
  },
  {
   "source": [
    "#### d.remove"
   ],
   "cell_type": "markdown",
   "metadata": {}
  },
  {
   "cell_type": "code",
   "execution_count": 64,
   "metadata": {},
   "outputs": [
    {
     "output_type": "error",
     "ename": "ValueError",
     "evalue": "list.remove(x): x not in list",
     "traceback": [
      "\u001b[1;31m---------------------------------------------------------------------------\u001b[0m",
      "\u001b[1;31mValueError\u001b[0m                                Traceback (most recent call last)",
      "\u001b[1;32m<ipython-input-64-d8f241c2e59c>\u001b[0m in \u001b[0;36m<module>\u001b[1;34m\u001b[0m\n\u001b[1;32m----> 1\u001b[1;33m \u001b[0mcolor\u001b[0m\u001b[1;33m.\u001b[0m\u001b[0mremove\u001b[0m\u001b[1;33m(\u001b[0m\u001b[1;34m'orange'\u001b[0m\u001b[1;33m)\u001b[0m\u001b[1;33m\u001b[0m\u001b[1;33m\u001b[0m\u001b[0m\n\u001b[0m\u001b[0;32m      2\u001b[0m \u001b[0mcolor\u001b[0m\u001b[1;33m\u001b[0m\u001b[1;33m\u001b[0m\u001b[0m\n",
      "\u001b[1;31mValueError\u001b[0m: list.remove(x): x not in list"
     ]
    }
   ],
   "source": [
    "color.remove('orange')\n",
    "color"
   ]
  },
  {
   "cell_type": "code",
   "execution_count": 68,
   "metadata": {},
   "outputs": [
    {
     "output_type": "execute_result",
     "data": {
      "text/plain": [
       "['red']"
      ]
     },
     "metadata": {},
     "execution_count": 68
    }
   ],
   "source": [
    "color.remove(color[-1])\n",
    "color"
   ]
  },
  {
   "cell_type": "code",
   "execution_count": 83,
   "metadata": {},
   "outputs": [
    {
     "output_type": "execute_result",
     "data": {
      "text/plain": [
       "['red, green,blue']"
      ]
     },
     "metadata": {},
     "execution_count": 83
    }
   ],
   "source": [
    "color = ['red, green,blue']\n",
    "color.sort(reverse=True)\n",
    "color"
   ]
  },
  {
   "source": [
    "#### 패팅, 언패킹"
   ],
   "cell_type": "markdown",
   "metadata": {}
  },
  {
   "cell_type": "code",
   "execution_count": 85,
   "metadata": {},
   "outputs": [
    {
     "output_type": "execute_result",
     "data": {
      "text/plain": [
       "(1, 2, 3)"
      ]
     },
     "metadata": {},
     "execution_count": 85
    }
   ],
   "source": [
    "t = [1,2,3]\n",
    "a,b,c = t  # 리스트 언패킹\n",
    "a,b,c   # 튜플 패킹 "
   ]
  },
  {
   "source": [
    "#### 이차원 리스트"
   ],
   "cell_type": "markdown",
   "metadata": {}
  },
  {
   "cell_type": "code",
   "execution_count": 88,
   "metadata": {},
   "outputs": [
    {
     "output_type": "execute_result",
     "data": {
      "text/plain": [
       "[[49, 79, 20, 100, 80], [43, 59, 85, 30, 90], [49, 79, 48, 60, 100]]"
      ]
     },
     "metadata": {},
     "execution_count": 88
    }
   ],
   "source": [
    "kor =[49,79, 20,100,80]\n",
    "mat = [43, 59, 85, 30,90]\n",
    "eng = [49,79,48, 60, 100]\n",
    "score = [kor, mat, eng]\n",
    "score"
   ]
  },
  {
   "cell_type": "code",
   "execution_count": 90,
   "metadata": {},
   "outputs": [
    {
     "output_type": "execute_result",
     "data": {
      "text/plain": [
       "[49, 79, 20, 100, 80]"
      ]
     },
     "metadata": {},
     "execution_count": 90
    }
   ],
   "source": [
    "score[0]"
   ]
  },
  {
   "cell_type": "code",
   "execution_count": 92,
   "metadata": {},
   "outputs": [
    {
     "output_type": "execute_result",
     "data": {
      "text/plain": [
       "30"
      ]
     },
     "metadata": {},
     "execution_count": 92
    }
   ],
   "source": [
    "score[1][3]  # [행 인덱스] [열인덱스]"
   ]
  },
  {
   "cell_type": "code",
   "execution_count": 94,
   "metadata": {},
   "outputs": [
    {
     "output_type": "execute_result",
     "data": {
      "text/plain": [
       "[[43, 59, 85, 30, 90], [49, 79, 48, 60, 100]]"
      ]
     },
     "metadata": {},
     "execution_count": 94
    }
   ],
   "source": [
    "score[1:]"
   ]
  },
  {
   "cell_type": "code",
   "execution_count": 96,
   "metadata": {},
   "outputs": [
    {
     "output_type": "execute_result",
     "data": {
      "text/plain": [
       "[]"
      ]
     },
     "metadata": {},
     "execution_count": 96
    }
   ],
   "source": [
    "score[1:][2:]"
   ]
  },
  {
   "cell_type": "code",
   "execution_count": null,
   "metadata": {},
   "outputs": [],
   "source": [
    "score[:]"
   ]
  }
 ]
}