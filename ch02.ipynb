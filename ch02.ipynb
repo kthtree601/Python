# chapter 2. 변수와 자료형

1. 변수의 이해
professor = "ho"

print(professor)

