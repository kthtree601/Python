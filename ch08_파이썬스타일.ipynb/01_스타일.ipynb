{
 "metadata": {
  "language_info": {
   "codemirror_mode": {
    "name": "ipython",
    "version": 3
   },
   "file_extension": ".py",
   "mimetype": "text/x-python",
   "name": "python",
   "nbconvert_exporter": "python",
   "pygments_lexer": "ipython3",
   "version": "3.8.5"
  },
  "orig_nbformat": 2,
  "kernelspec": {
   "name": "python385jvsc74a57bd022bb53b43b3afb0848b0afa27adb8f2415fb61399be88b9ea69bd0b84fe58c05",
   "display_name": "Python 3.8.5 64-bit ('base': conda)"
  }
 },
 "nbformat": 4,
 "nbformat_minor": 2,
 "cells": [
  {
   "cell_type": "code",
   "execution_count": 2,
   "metadata": {},
   "outputs": [
    {
     "output_type": "execute_result",
     "data": {
      "text/plain": [
       "'redbluegreenyellow'"
      ]
     },
     "metadata": {},
     "execution_count": 2
    }
   ],
   "source": [
    "# 파이썬 스타일 코드\n",
    "\n",
    "# 1. join\n",
    "\n",
    "colors = ['red', 'blue', 'green', 'yellow']\n",
    "color_text =''\n",
    "for color in colors:\n",
    "    color_text += color\n",
    "color_text    "
   ]
  },
  {
   "cell_type": "code",
   "execution_count": 4,
   "metadata": {},
   "outputs": [
    {
     "output_type": "execute_result",
     "data": {
      "text/plain": [
       "'red, blue, green, yellow, '"
      ]
     },
     "metadata": {},
     "execution_count": 4
    }
   ],
   "source": [
    "colors = ['red', 'blue', 'green', 'yellow']\n",
    "color_text =''\n",
    "for color in colors:\n",
    "    color_text += color + ', '\n",
    "color_text   "
   ]
  },
  {
   "cell_type": "code",
   "execution_count": 6,
   "metadata": {},
   "outputs": [
    {
     "output_type": "execute_result",
     "data": {
      "text/plain": [
       "'red, blue, green, yellow'"
      ]
     },
     "metadata": {},
     "execution_count": 6
    }
   ],
   "source": [
    "color_text =''\n",
    "for index, color in enumerate(colors):\n",
    "    color_text += color\n",
    "    if index != len(colors) - 1:\n",
    "        color_text += ', '\n",
    "color_text   # yellow 오른쪽 컴마를 붙이기 위해서"
   ]
  },
  {
   "cell_type": "code",
   "execution_count": 8,
   "metadata": {},
   "outputs": [
    {
     "output_type": "execute_result",
     "data": {
      "text/plain": [
       "'red, blue, green, yellow'"
      ]
     },
     "metadata": {},
     "execution_count": 8
    }
   ],
   "source": [
    "', '.join(colors)  # 헐 1줄로 가능하네 ㄷㄷ"
   ]
  },
  {
   "cell_type": "code",
   "execution_count": 11,
   "metadata": {},
   "outputs": [
    {
     "output_type": "execute_result",
     "data": {
      "text/plain": [
       "'red, blue, green, yellow'"
      ]
     },
     "metadata": {},
     "execution_count": 11
    }
   ],
   "source": [
    "', '.join(color for color in colors)"
   ]
  },
  {
   "cell_type": "code",
   "execution_count": 13,
   "metadata": {},
   "outputs": [
    {
     "output_type": "execute_result",
     "data": {
      "text/plain": [
       "'red - blue - green - yellow'"
      ]
     },
     "metadata": {},
     "execution_count": 13
    }
   ],
   "source": [
    "' - '.join(color for color in colors)"
   ]
  },
  {
   "source": [
    "### 2. 리스트 컴프레션"
   ],
   "cell_type": "markdown",
   "metadata": {}
  },
  {
   "cell_type": "code",
   "execution_count": 15,
   "metadata": {},
   "outputs": [
    {
     "output_type": "execute_result",
     "data": {
      "text/plain": [
       "[0, 1, 2, 3, 4, 5, 6, 7, 8, 9]"
      ]
     },
     "metadata": {},
     "execution_count": 15
    }
   ],
   "source": [
    "# 기존 방법\n",
    "empty_list = []\n",
    "for i in range(10):\n",
    "    empty_list.append(i)\n",
    "empty_list"
   ]
  },
  {
   "cell_type": "code",
   "execution_count": 17,
   "metadata": {},
   "outputs": [
    {
     "output_type": "execute_result",
     "data": {
      "text/plain": [
       "[0, 1, 2, 3, 4, 5, 6, 7, 8, 9]"
      ]
     },
     "metadata": {},
     "execution_count": 17
    }
   ],
   "source": [
    "a1 = [i for i in range(10)]\n",
    "a1"
   ]
  },
  {
   "cell_type": "code",
   "execution_count": 19,
   "metadata": {},
   "outputs": [
    {
     "output_type": "execute_result",
     "data": {
      "text/plain": [
       "[0, 1, 4, 9, 16, 25, 36, 49, 64, 81]"
      ]
     },
     "metadata": {},
     "execution_count": 19
    }
   ],
   "source": [
    "[i*i for i in range(10)]"
   ]
  },
  {
   "cell_type": "code",
   "execution_count": 21,
   "metadata": {},
   "outputs": [
    {
     "output_type": "execute_result",
     "data": {
      "text/plain": [
       "[5, 4, 7, 14, 25, 40, 59, 82, 109, 140]"
      ]
     },
     "metadata": {},
     "execution_count": 21
    }
   ],
   "source": [
    "[2*x*x - 3*x + 5 for x in range(10)]"
   ]
  },
  {
   "cell_type": "code",
   "execution_count": 23,
   "metadata": {},
   "outputs": [
    {
     "output_type": "execute_result",
     "data": {
      "text/plain": [
       "[1.0,\n",
       " 1.4142135623730951,\n",
       " 1.7320508075688772,\n",
       " 2.0,\n",
       " 2.23606797749979,\n",
       " 2.449489742783178,\n",
       " 2.6457513110645907,\n",
       " 2.8284271247461903,\n",
       " 3.0,\n",
       " 3.1622776601683795]"
      ]
     },
     "metadata": {},
     "execution_count": 23
    }
   ],
   "source": [
    "import math\n",
    "[math.sqrt(x) for x in range(1, 11)]  # sqrt 루트야!"
   ]
  },
  {
   "source": [
    "- 조건을 부여할 수 있음 filtering"
   ],
   "cell_type": "markdown",
   "metadata": {}
  },
  {
   "cell_type": "code",
   "execution_count": 27,
   "metadata": {},
   "outputs": [
    {
     "output_type": "execute_result",
     "data": {
      "text/plain": [
       "[0, 2, 4, 6, 8]"
      ]
     },
     "metadata": {},
     "execution_count": 27
    }
   ],
   "source": [
    "[i for i in range(10) if i%2 == 0]"
   ]
  },
  {
   "cell_type": "code",
   "execution_count": 28,
   "metadata": {},
   "outputs": [
    {
     "output_type": "execute_result",
     "data": {
      "text/plain": [
       "[0, 'odd', 2, 'odd', 4, 'odd', 6, 'odd', 8, 'odd']"
      ]
     },
     "metadata": {},
     "execution_count": 28
    }
   ],
   "source": [
    "# 3항 연산자 활용\n",
    "[i if i % 2 == 0 else 'odd' for i in range(10)]"
   ]
  },
  {
   "source": [
    "- 중첩 반복문"
   ],
   "cell_type": "markdown",
   "metadata": {}
  },
  {
   "cell_type": "code",
   "execution_count": 30,
   "metadata": {},
   "outputs": [
    {
     "output_type": "execute_result",
     "data": {
      "text/plain": [
       "['1x', '1y', '1z', '2x', '2y', '2z', '3x', '3y', '3z']"
      ]
     },
     "metadata": {},
     "execution_count": 30
    }
   ],
   "source": [
    "str1 = '123'\n",
    "str2 = 'xyz'\n",
    "[i + k for i in str1 for k in str2]"
   ]
  },
  {
   "cell_type": "code",
   "execution_count": 32,
   "metadata": {},
   "outputs": [
    {
     "output_type": "execute_result",
     "data": {
      "text/plain": [
       "['1x', '1y', '1z', '2x', '2y', '2z', '3x', '3y', '3z']"
      ]
     },
     "metadata": {},
     "execution_count": 32
    }
   ],
   "source": [
    "[i + k for i in str1 \\\n",
    "    for k in str2]"
   ]
  },
  {
   "source": [
    "- 2차원 리스트 만들기"
   ],
   "cell_type": "markdown",
   "metadata": {}
  },
  {
   "cell_type": "code",
   "execution_count": 36,
   "metadata": {},
   "outputs": [
    {
     "output_type": "execute_result",
     "data": {
      "text/plain": [
       "[['a'],\n",
       " ['quick'],\n",
       " ['brown'],\n",
       " ['fox'],\n",
       " ['jumps'],\n",
       " ['over'],\n",
       " ['the'],\n",
       " ['lazy'],\n",
       " ['dog.']]"
      ]
     },
     "metadata": {},
     "execution_count": 36
    }
   ],
   "source": [
    "text = 'a quick brown fox jumps over the lazy dog.'\n",
    "[[word] for word in text.split()]"
   ]
  },
  {
   "cell_type": "code",
   "execution_count": 38,
   "metadata": {},
   "outputs": [
    {
     "output_type": "execute_result",
     "data": {
      "text/plain": [
       "[['A', 'a', 1],\n",
       " ['QUICK', 'quick', 5],\n",
       " ['BROWN', 'brown', 5],\n",
       " ['FOX', 'fox', 3],\n",
       " ['JUMPS', 'jumps', 5],\n",
       " ['OVER', 'over', 4],\n",
       " ['THE', 'the', 3],\n",
       " ['LAZY', 'lazy', 4],\n",
       " ['DOG.', 'dog.', 4]]"
      ]
     },
     "metadata": {},
     "execution_count": 38
    }
   ],
   "source": [
    "[[w.upper(), w.lower(), len(w)] for w in text.split()]"
   ]
  },
  {
   "source": [
    "### - 성능"
   ],
   "cell_type": "markdown",
   "metadata": {}
  },
  {
   "cell_type": "code",
   "execution_count": 40,
   "metadata": {},
   "outputs": [],
   "source": [
    "def scalar_vector_product(scalar, vector):\n",
    "    result = []\n",
    "    for value in vector:\n",
    "        result.append(scalar * vector)\n",
    "    return result"
   ]
  },
  {
   "cell_type": "code",
   "execution_count": 41,
   "metadata": {},
   "outputs": [],
   "source": [
    "iteration = 1000\n",
    "vector = list(range(iteration))\n",
    "scalar = 2"
   ]
  },
  {
   "cell_type": "code",
   "execution_count": null,
   "metadata": {},
   "outputs": [],
   "source": [
    "%%time\n",
    "for _ in range(iteration):\n",
    "    scalar_vector_product(scalar, vector)"
   ]
  },
  {
   "cell_type": "code",
   "execution_count": null,
   "metadata": {},
   "outputs": [],
   "source": [
    "%%time\n",
    "for _ in range(iteration):\n",
    "    [scalar * value for value in range(iteration)]"
   ]
  },
  {
   "cell_type": "code",
   "execution_count": 3,
   "metadata": {},
   "outputs": [
    {
     "output_type": "execute_result",
     "data": {
      "text/plain": [
       "[4, 16, 36, 64]"
      ]
     },
     "metadata": {},
     "execution_count": 3
    }
   ],
   "source": [
    "[i*i for i in range(2,10) if i%2 ==0]"
   ]
  },
  {
   "cell_type": "code",
   "execution_count": 1,
   "metadata": {},
   "outputs": [
    {
     "output_type": "execute_result",
     "data": {
      "text/plain": [
       "[0, 1, 2, 3, 4, 5, 6, 7, 8]"
      ]
     },
     "metadata": {},
     "execution_count": 1
    }
   ],
   "source": [
    "[i for i in range(9)]"
   ]
  },
  {
   "cell_type": "code",
   "execution_count": 5,
   "metadata": {},
   "outputs": [
    {
     "output_type": "execute_result",
     "data": {
      "text/plain": [
       "[1000, 1331, 1728, 2197, 2744, 3375, 4096, 4913, 5832, 6859]"
      ]
     },
     "metadata": {},
     "execution_count": 5
    }
   ],
   "source": [
    "[i*i*i for i in range(10,20)]"
   ]
  },
  {
   "cell_type": "code",
   "execution_count": 9,
   "metadata": {},
   "outputs": [
    {
     "output_type": "execute_result",
     "data": {
      "text/plain": [
       "[8, 32, 64, 128, 256, 1024]"
      ]
     },
     "metadata": {},
     "execution_count": 9
    }
   ],
   "source": [
    "first, second = map(int, input().split())\n",
    "[ 2** i for i in range(first, second+1) \\\n",
    "    if i != first+1 and i != second-1]"
   ]
  },
  {
   "source": [
    "\n",
    "### 3. dictionary comprehension"
   ],
   "cell_type": "markdown",
   "metadata": {}
  },
  {
   "cell_type": "code",
   "execution_count": 10,
   "metadata": {},
   "outputs": [
    {
     "output_type": "execute_result",
     "data": {
      "text/plain": [
       "{'a': 10, 'b': 20, 'c': 30, 'd': 40}"
      ]
     },
     "metadata": {},
     "execution_count": 10
    }
   ],
   "source": [
    "x = {'a':10, 'b':20, 'c':30, 'd':40}\n",
    "{key:value for key, value in x.items()}"
   ]
  },
  {
   "cell_type": "code",
   "execution_count": 12,
   "metadata": {},
   "outputs": [
    {
     "output_type": "stream",
     "name": "stdout",
     "text": [
      "0 apple\n1 banana\n2 cherry\n"
     ]
    }
   ],
   "source": [
    "fruits = ['apple', 'banana','cherry']\n",
    "for i, fruit in enumerate(fruits):\n",
    "    print(i, fruit)"
   ]
  },
  {
   "cell_type": "code",
   "execution_count": 13,
   "metadata": {},
   "outputs": [
    {
     "output_type": "execute_result",
     "data": {
      "text/plain": [
       "{'apple': 1000, 'banana': 2000, 'cherry': 3000}"
      ]
     },
     "metadata": {},
     "execution_count": 13
    }
   ],
   "source": [
    "{fruit:i*1000+1000 for i, fruit in enumerate(fruits)}"
   ]
  },
  {
   "cell_type": "code",
   "execution_count": 14,
   "metadata": {},
   "outputs": [
    {
     "output_type": "execute_result",
     "data": {
      "text/plain": [
       "1227"
      ]
     },
     "metadata": {},
     "execution_count": 14
    }
   ],
   "source": [
    "import random\n",
    "random.randint(1000, 2000)"
   ]
  },
  {
   "cell_type": "code",
   "execution_count": 15,
   "metadata": {},
   "outputs": [
    {
     "output_type": "execute_result",
     "data": {
      "text/plain": [
       "{'apple': 1200, 'banana': 1400, 'cherry': 1300}"
      ]
     },
     "metadata": {},
     "execution_count": 15
    }
   ],
   "source": [
    "{fruit:random.randint(10,20)*100 for fruit in fruits}"
   ]
  },
  {
   "cell_type": "code",
   "execution_count": 17,
   "metadata": {},
   "outputs": [
    {
     "output_type": "execute_result",
     "data": {
      "text/plain": [
       "{'a': 10, 'b': 20, 'd': 40}"
      ]
     },
     "metadata": {},
     "execution_count": 17
    }
   ],
   "source": [
    "# 딕셔너리 필터링\n",
    "x = {'a':10, 'b':20, 'c':30, 'd':40}\n",
    "{key:value for key, value in x.items() if value !=30}"
   ]
  },
  {
   "source": [
    "### 4. 다양한 방식의 리스트 출력"
   ],
   "cell_type": "markdown",
   "metadata": {}
  },
  {
   "cell_type": "code",
   "execution_count": 18,
   "metadata": {},
   "outputs": [
    {
     "output_type": "stream",
     "name": "stdout",
     "text": [
      "0 apple\n1 banana\n2 cherry\n"
     ]
    }
   ],
   "source": [
    "for i, fruit in enumerate(fruits):\n",
    "    print(i, fruit)"
   ]
  },
  {
   "cell_type": "code",
   "execution_count": 20,
   "metadata": {},
   "outputs": [
    {
     "output_type": "execute_result",
     "data": {
      "text/plain": [
       "[('a1', 'a1'), ('a2', 'a2'), ('a3', 'a3')]"
      ]
     },
     "metadata": {},
     "execution_count": 20
    }
   ],
   "source": [
    "alist = ['a1', 'a2', 'a3']\n",
    "blist = ['a1', 'a2', 'a3']\n",
    "list(zip(alist, blist))"
   ]
  },
  {
   "cell_type": "code",
   "execution_count": 21,
   "metadata": {},
   "outputs": [
    {
     "output_type": "execute_result",
     "data": {
      "text/plain": [
       "{'a1': 'a1', 'a2': 'a2', 'a3': 'a3'}"
      ]
     },
     "metadata": {},
     "execution_count": 21
    }
   ],
   "source": [
    "{a:b for a, b in zip(alist,blist)}"
   ]
  },
  {
   "cell_type": "code",
   "execution_count": 22,
   "metadata": {},
   "outputs": [
    {
     "output_type": "execute_result",
     "data": {
      "text/plain": [
       "[(0, ('a1', 'a1')), (1, ('a2', 'a2')), (2, ('a3', 'a3'))]"
      ]
     },
     "metadata": {},
     "execution_count": 22
    }
   ],
   "source": [
    "list(enumerate(zip(alist,blist)))\n"
   ]
  },
  {
   "cell_type": "code",
   "execution_count": 23,
   "metadata": {},
   "outputs": [
    {
     "output_type": "stream",
     "name": "stdout",
     "text": [
      "0 a1 a1\n1 a2 a2\n2 a3 a3\n"
     ]
    }
   ],
   "source": [
    "for i, (a,b) in enumerate(zip(alist, blist)):\n",
    "    print(i,a,b)"
   ]
  },
  {
   "cell_type": "code",
   "execution_count": null,
   "metadata": {},
   "outputs": [],
   "source": []
  }
 ]
}