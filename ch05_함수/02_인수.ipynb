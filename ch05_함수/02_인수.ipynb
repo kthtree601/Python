{
 "metadata": {
  "language_info": {
   "codemirror_mode": {
    "name": "ipython",
    "version": 3
   },
   "file_extension": ".py",
   "mimetype": "text/x-python",
   "name": "python",
   "nbconvert_exporter": "python",
   "pygments_lexer": "ipython3",
   "version": "3.8.5"
  },
  "orig_nbformat": 2,
  "kernelspec": {
   "name": "python385jvsc74a57bd022bb53b43b3afb0848b0afa27adb8f2415fb61399be88b9ea69bd0b84fe58c05",
   "display_name": "Python 3.8.5 64-bit ('base': conda)"
  }
 },
 "nbformat": 4,
 "nbformat_minor": 2,
 "cells": [
  {
   "source": [
    "### 함수의 인수\n",
    "- 위치 인수(positional argument)\n",
    "- 키워드 인수(keyword argument)\n",
    "- 디폴트 인수(default argument)\n",
    "- 가변 인수(variable-length argument)\n",
    "- 키워드 가변 인수(keyword variable length argument)"
   ],
   "cell_type": "markdown",
   "metadata": {}
  },
  {
   "cell_type": "code",
   "execution_count": 2,
   "metadata": {},
   "outputs": [],
   "source": [
    "# 키워드 인수\n",
    "\n",
    "def print_something(my_name, your_name):\n",
    "    print(f'holy {your_name}, my name is {my_name}')"
   ]
  },
  {
   "cell_type": "code",
   "execution_count": 4,
   "metadata": {},
   "outputs": [
    {
     "output_type": "stream",
     "name": "stdout",
     "text": [
      "holy low nigga, my name is ass hole\nholy low nigga, my name is ass hole\n"
     ]
    }
   ],
   "source": [
    "print_something('ass hole','low nigga')\n",
    "print_something(your_name='low nigga', my_name='ass hole')"
   ]
  },
  {
   "cell_type": "code",
   "execution_count": 5,
   "metadata": {},
   "outputs": [],
   "source": [
    "# 디폴트 인수\n",
    "\n",
    "def print_something2(my_name, your_name='everyone'):\n",
    "    print(f'holy {your_name}, my name is {my_name}')"
   ]
  },
  {
   "cell_type": "code",
   "execution_count": 7,
   "metadata": {},
   "outputs": [
    {
     "output_type": "stream",
     "name": "stdout",
     "text": [
      "holy kennedy, my name is page\nholy everyone, my name is page\n"
     ]
    }
   ],
   "source": [
    "print_something2('page','kennedy')\n",
    "print_something2('page')"
   ]
  },
  {
   "cell_type": "code",
   "execution_count": 8,
   "metadata": {},
   "outputs": [],
   "source": [
    "# 가변 인수\n",
    "def summation(*args):\n",
    "    return sum(args)"
   ]
  },
  {
   "cell_type": "code",
   "execution_count": 10,
   "metadata": {},
   "outputs": [
    {
     "output_type": "stream",
     "name": "stdout",
     "text": [
      "3\n10\n"
     ]
    }
   ],
   "source": [
    "print(summation(1,2))\n",
    "print(summation(1,2,3,4))"
   ]
  },
  {
   "cell_type": "code",
   "execution_count": 14,
   "metadata": {},
   "outputs": [],
   "source": [
    "# 위치 인수는 가변인수보다 앞에 나와야 한다\n",
    "def summation2(a,b, *args):\n",
    "    return a + b + sum(args)"
   ]
  },
  {
   "cell_type": "code",
   "execution_count": 15,
   "metadata": {},
   "outputs": [
    {
     "output_type": "stream",
     "name": "stdout",
     "text": [
      "3\n10\n"
     ]
    }
   ],
   "source": [
    "print(summation2(1,2))\n",
    "print(summation2(1,2,3,4))"
   ]
  },
  {
   "cell_type": "code",
   "execution_count": 16,
   "metadata": {},
   "outputs": [],
   "source": [
    "# 키워드 가변 인수\n",
    "def kwargs_test(**kwargs):\n",
    "    print(kwargs)"
   ]
  },
  {
   "cell_type": "code",
   "execution_count": 18,
   "metadata": {},
   "outputs": [
    {
     "output_type": "stream",
     "name": "stdout",
     "text": [
      "{'first': 3, 'second': 4, 'third': 5}\n"
     ]
    }
   ],
   "source": [
    "kwargs_test(first =3, second=4,third=5)"
   ]
  },
  {
   "cell_type": "code",
   "execution_count": 20,
   "metadata": {},
   "outputs": [
    {
     "output_type": "stream",
     "name": "stdout",
     "text": [
      "3\n"
     ]
    }
   ],
   "source": [
    "my_dict = {'first':3, 'second':4, 'third':5}\n",
    "print(my_dict['first'])  # my_dict.first는 지원하지 않음"
   ]
  },
  {
   "cell_type": "code",
   "execution_count": 27,
   "metadata": {},
   "outputs": [],
   "source": [
    "def kwargs_test2(**kwargs):\n",
    "    print(kwargs)\n",
    "    print(f\"first value is {kwargs['first']}\")# 전부 ' ' 이렇게 홑따옴표로 하믄 에러나서 바깥에거를 일부러 쌍따옴표로 바꾼거임\n",
    "    print(f\"second value is {second}\".format(**kwargs))\n",
    "    print(\"third value is {third}\".format(**kwargs)) "
   ]
  },
  {
   "cell_type": "code",
   "execution_count": 28,
   "metadata": {},
   "outputs": [
    {
     "output_type": "stream",
     "name": "stdout",
     "text": [
      "{'first': 3, 'second': 4, 'third': 5}\nfirst value is 3\n"
     ]
    },
    {
     "output_type": "error",
     "ename": "NameError",
     "evalue": "name 'second' is not defined",
     "traceback": [
      "\u001b[1;31m---------------------------------------------------------------------------\u001b[0m",
      "\u001b[1;31mNameError\u001b[0m                                 Traceback (most recent call last)",
      "\u001b[1;32m<ipython-input-28-21915dea6e96>\u001b[0m in \u001b[0;36m<module>\u001b[1;34m\u001b[0m\n\u001b[1;32m----> 1\u001b[1;33m \u001b[0mkwargs_test2\u001b[0m\u001b[1;33m(\u001b[0m\u001b[0mfirst\u001b[0m\u001b[1;33m=\u001b[0m\u001b[1;36m3\u001b[0m\u001b[1;33m,\u001b[0m \u001b[0msecond\u001b[0m\u001b[1;33m=\u001b[0m\u001b[1;36m4\u001b[0m\u001b[1;33m,\u001b[0m \u001b[0mthird\u001b[0m\u001b[1;33m=\u001b[0m\u001b[1;36m5\u001b[0m\u001b[1;33m)\u001b[0m\u001b[1;33m\u001b[0m\u001b[1;33m\u001b[0m\u001b[0m\n\u001b[0m",
      "\u001b[1;32m<ipython-input-27-c3a98c1f0f49>\u001b[0m in \u001b[0;36mkwargs_test2\u001b[1;34m(**kwargs)\u001b[0m\n\u001b[0;32m      2\u001b[0m     \u001b[0mprint\u001b[0m\u001b[1;33m(\u001b[0m\u001b[0mkwargs\u001b[0m\u001b[1;33m)\u001b[0m\u001b[1;33m\u001b[0m\u001b[1;33m\u001b[0m\u001b[0m\n\u001b[0;32m      3\u001b[0m     \u001b[0mprint\u001b[0m\u001b[1;33m(\u001b[0m\u001b[1;34mf\"first value is {kwargs['first']}\"\u001b[0m\u001b[1;33m)\u001b[0m\u001b[1;31m# 전부 ' ' 이렇게 홑따옴표로 하믄 에러나서 바깥에거를 일부러 쌍따옴표로 바꾼거임\u001b[0m\u001b[1;33m\u001b[0m\u001b[1;33m\u001b[0m\u001b[0m\n\u001b[1;32m----> 4\u001b[1;33m     \u001b[0mprint\u001b[0m\u001b[1;33m(\u001b[0m\u001b[1;34mf\"second value is {second}\"\u001b[0m\u001b[1;33m.\u001b[0m\u001b[0mformat\u001b[0m\u001b[1;33m(\u001b[0m\u001b[1;33m**\u001b[0m\u001b[0mkwargs\u001b[0m\u001b[1;33m)\u001b[0m\u001b[1;33m)\u001b[0m\u001b[1;33m\u001b[0m\u001b[1;33m\u001b[0m\u001b[0m\n\u001b[0m\u001b[0;32m      5\u001b[0m     \u001b[0mprint\u001b[0m\u001b[1;33m(\u001b[0m\u001b[1;34m\"third value is {third}\"\u001b[0m\u001b[1;33m.\u001b[0m\u001b[0mformat\u001b[0m\u001b[1;33m(\u001b[0m\u001b[1;33m**\u001b[0m\u001b[0mkwargs\u001b[0m\u001b[1;33m)\u001b[0m\u001b[1;33m)\u001b[0m\u001b[1;33m\u001b[0m\u001b[1;33m\u001b[0m\u001b[0m\n",
      "\u001b[1;31mNameError\u001b[0m: name 'second' is not defined"
     ]
    }
   ],
   "source": [
    "kwargs_test2(first=3, second=4, third=5)"
   ]
  },
  {
   "cell_type": "code",
   "execution_count": null,
   "metadata": {},
   "outputs": [],
   "source": []
  }
 ]
}